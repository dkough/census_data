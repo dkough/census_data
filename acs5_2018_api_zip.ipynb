{
 "cells": [
  {
   "cell_type": "markdown",
   "metadata": {},
   "source": [
    "-use the variables and zip text files to modify output\n"
   ]
  },
  {
   "cell_type": "code",
   "execution_count": 1,
   "metadata": {},
   "outputs": [],
   "source": [
    "import pandas as pd\n",
    "import requests\n",
    "import json"
   ]
  },
  {
   "cell_type": "code",
   "execution_count": 2,
   "metadata": {},
   "outputs": [],
   "source": [
    "#create list of zipcodes from txt file with zips\n",
    "zips = open('chosen_zips.txt', 'r').readlines()\n",
    "zips = [z.replace('\\n', '') for z in zips]\n",
    "zips = ','.join(zips)"
   ]
  },
  {
   "cell_type": "code",
   "execution_count": 3,
   "metadata": {},
   "outputs": [],
   "source": [
    "#census api key\n",
    "apiKey = \"\""
   ]
  },
  {
   "cell_type": "code",
   "execution_count": 4,
   "metadata": {},
   "outputs": [
    {
     "name": "stdout",
     "output_type": "stream",
     "text": [
      "07059,07060,07062,07063,07069,07920,07922,07933,07946,07980,08807,08812,08836,07701,07702,07703,07704,07716,07718,07721,07730,07732,07733,07734,07735,07737,07738,07739,07748,07757,07748,07760,08873,08854,08844,08817,08820,08876,07076\n"
     ]
    }
   ],
   "source": [
    "print(zips)"
   ]
  },
  {
   "cell_type": "code",
   "execution_count": 5,
   "metadata": {},
   "outputs": [],
   "source": [
    "#same thing with variables\n",
    "variables = open('variables_2018.txt', 'r').readlines()\n",
    "variables = [z.replace('\\n', '') for z in variables]\n",
    "variables = ','.join(variables)\n"
   ]
  },
  {
   "cell_type": "code",
   "execution_count": 6,
   "metadata": {},
   "outputs": [
    {
     "name": "stdout",
     "output_type": "stream",
     "text": [
      "DP02_0066PE,DP04_0134E,DP04_0102E,DP04_0101E,DP04_0090PE,DP04_0046PE,DP02_0014PE,DP02_0014E,DP02_0013PE,DP02_0013E,DP02_0020PE,DP02_0020E,DP02_0010PE,DP02_0010E,DP02_0003PE,DP02_0003E,DP02_0001E,DP02_0016E,DP02_0015E,DP04_0089E,DP03_0062E,DP03_0119PE,DP03_0009PE,DP02_0065PE,DP02_0065E,DP02_0064PE,DP02_0064E,DP02_0061PE,DP02_0061E,DP05_0018E,DP05_0024E,DP02_0055E,DP05_0021E,DP05_0005E,DP05_0001E\n"
     ]
    }
   ],
   "source": [
    "#just to check for errors, if a ',' appears at the end you need to delete the last blank line in the txt file\n",
    "print(variables)\n",
    "#the first variable here corresponds to the last value in columnNames"
   ]
  },
  {
   "cell_type": "code",
   "execution_count": 7,
   "metadata": {},
   "outputs": [],
   "source": [
    "#name your variables, 'zipcode' stays unchanged\n",
    "#again, note that columnNames is flipped\n",
    "columnNames = ['zipcode', 'pop', 'under5', '18plus', 'elemschool', '65plus', 'med_age', 'hschool', 'p_hschool', 'bachelors', 'p_bachelors', 'advanced', 'p_advanced', 'unemp',\n",
    "               'pov', 'med_hholdinc', 'med_homeval', 'avg_hhold', 'avg_fam', 'hhold', 'famhhold', 'p_famhhold', '!famhhold', 'p_!famhhold', 'childpop', 'p_childpop', 'hholdunder18',\n",
    "               'p_hholdunder18', 'hhold65plus', 'p_hhold65plus', 'p_owneroccup', 'p_oomortgages', 'med_smocmortgages', 'med_smoc!mortgages', 'med_rent', 'p_hschoolplus']\n",
    "               "
   ]
  },
  {
   "cell_type": "code",
   "execution_count": 8,
   "metadata": {},
   "outputs": [],
   "source": [
    "#base api, this is where you change the year and dataset\n",
    "#it could be cleaned a little more with %s\n",
    "#note it is currently the 2018/acs/acs5/profile dataset\n",
    "baseAPI = \"https://api.census.gov/data/2018/acs/acs5/profile?key=%s&get=%s&for=zip%%20code%%20tabulation%%20area:%s\""
   ]
  },
  {
   "cell_type": "code",
   "execution_count": 9,
   "metadata": {},
   "outputs": [],
   "source": [
    "#custom API constructed\n",
    "calledAPI = baseAPI % (apiKey, variables, zips)"
   ]
  },
  {
   "cell_type": "code",
   "execution_count": 10,
   "metadata": {},
   "outputs": [],
   "source": [
    "#call API and collect the response\n",
    "response = requests.get(calledAPI)"
   ]
  },
  {
   "cell_type": "code",
   "execution_count": 2,
   "metadata": {},
   "outputs": [],
   "source": [
    "#check if all the variables are valid, if ok it will just print, if not there will be an error\n",
    "#print(response.text)"
   ]
  },
  {
   "cell_type": "code",
   "execution_count": 3,
   "metadata": {},
   "outputs": [
    {
     "ename": "NameError",
     "evalue": "name 'json' is not defined",
     "output_type": "error",
     "traceback": [
      "\u001b[1;31m---------------------------------------------------------------------------\u001b[0m",
      "\u001b[1;31mNameError\u001b[0m                                 Traceback (most recent call last)",
      "\u001b[1;32m<ipython-input-3-bb4faf5b5f35>\u001b[0m in \u001b[0;36m<module>\u001b[1;34m\u001b[0m\n\u001b[0;32m      1\u001b[0m \u001b[1;31m#load the response into a JSON, ignoring the first element which is just field labels\u001b[0m\u001b[1;33m\u001b[0m\u001b[1;33m\u001b[0m\u001b[1;33m\u001b[0m\u001b[0m\n\u001b[1;32m----> 2\u001b[1;33m \u001b[0mformattedResponse\u001b[0m \u001b[1;33m=\u001b[0m \u001b[0mjson\u001b[0m\u001b[1;33m.\u001b[0m\u001b[0mloads\u001b[0m\u001b[1;33m(\u001b[0m\u001b[0mresponse\u001b[0m\u001b[1;33m.\u001b[0m\u001b[0mtext\u001b[0m\u001b[1;33m)\u001b[0m\u001b[1;33m[\u001b[0m\u001b[1;36m1\u001b[0m\u001b[1;33m:\u001b[0m\u001b[1;33m]\u001b[0m\u001b[1;33m\u001b[0m\u001b[1;33m\u001b[0m\u001b[0m\n\u001b[0m\u001b[0;32m      3\u001b[0m \u001b[1;31m#print(formattedResponse)\u001b[0m\u001b[1;33m\u001b[0m\u001b[1;33m\u001b[0m\u001b[1;33m\u001b[0m\u001b[0m\n",
      "\u001b[1;31mNameError\u001b[0m: name 'json' is not defined"
     ]
    }
   ],
   "source": [
    "#load the response into a JSON, ignoring the first element which is just field labels\n",
    "formattedResponse = json.loads(response.text)[1:]\n",
    "#print(formattedResponse)"
   ]
  },
  {
   "cell_type": "code",
   "execution_count": 13,
   "metadata": {},
   "outputs": [],
   "source": [
    "#flip the order of the response from [population, zipcode] -> [zipcode, population]\n",
    "#this is kind of annoying since it affects the entire column name order\n",
    "formattedResponse = [item[::-1] for item in formattedResponse]"
   ]
  },
  {
   "cell_type": "code",
   "execution_count": 14,
   "metadata": {},
   "outputs": [],
   "source": [
    "#store the response in a dataframe\n",
    "#remember the last column name is assigned to the first line in the variable text file\n",
    "df = pd.DataFrame(columns=columnNames, data=formattedResponse)"
   ]
  },
  {
   "cell_type": "code",
   "execution_count": 15,
   "metadata": {},
   "outputs": [
    {
     "data": {
      "text/html": [
       "<div>\n",
       "<style scoped>\n",
       "    .dataframe tbody tr th:only-of-type {\n",
       "        vertical-align: middle;\n",
       "    }\n",
       "\n",
       "    .dataframe tbody tr th {\n",
       "        vertical-align: top;\n",
       "    }\n",
       "\n",
       "    .dataframe thead th {\n",
       "        text-align: right;\n",
       "    }\n",
       "</style>\n",
       "<table border=\"1\" class=\"dataframe\">\n",
       "  <thead>\n",
       "    <tr style=\"text-align: right;\">\n",
       "      <th></th>\n",
       "      <th>zipcode</th>\n",
       "      <th>pop</th>\n",
       "      <th>under5</th>\n",
       "      <th>18plus</th>\n",
       "      <th>elemschool</th>\n",
       "      <th>65plus</th>\n",
       "      <th>med_age</th>\n",
       "      <th>hschool</th>\n",
       "      <th>p_hschool</th>\n",
       "      <th>bachelors</th>\n",
       "      <th>...</th>\n",
       "      <th>hholdunder18</th>\n",
       "      <th>p_hholdunder18</th>\n",
       "      <th>hhold65plus</th>\n",
       "      <th>p_hhold65plus</th>\n",
       "      <th>p_owneroccup</th>\n",
       "      <th>p_oomortgages</th>\n",
       "      <th>med_smocmortgages</th>\n",
       "      <th>med_smoc!mortgages</th>\n",
       "      <th>med_rent</th>\n",
       "      <th>p_hschoolplus</th>\n",
       "    </tr>\n",
       "  </thead>\n",
       "  <tbody>\n",
       "    <tr>\n",
       "      <th>0</th>\n",
       "      <td>07980</td>\n",
       "      <td>2253</td>\n",
       "      <td>200</td>\n",
       "      <td>1701</td>\n",
       "      <td>231</td>\n",
       "      <td>359</td>\n",
       "      <td>41.5</td>\n",
       "      <td>203</td>\n",
       "      <td>13.1</td>\n",
       "      <td>359</td>\n",
       "      <td>...</td>\n",
       "      <td>259</td>\n",
       "      <td>31.8</td>\n",
       "      <td>246</td>\n",
       "      <td>30.2</td>\n",
       "      <td>78.8</td>\n",
       "      <td>642</td>\n",
       "      <td>3170</td>\n",
       "      <td>130</td>\n",
       "      <td>1381</td>\n",
       "      <td>95.7</td>\n",
       "    </tr>\n",
       "    <tr>\n",
       "      <th>1</th>\n",
       "      <td>07704</td>\n",
       "      <td>5943</td>\n",
       "      <td>372</td>\n",
       "      <td>3912</td>\n",
       "      <td>1026</td>\n",
       "      <td>683</td>\n",
       "      <td>40.8</td>\n",
       "      <td>332</td>\n",
       "      <td>9.1</td>\n",
       "      <td>1559</td>\n",
       "      <td>...</td>\n",
       "      <td>990</td>\n",
       "      <td>53.1</td>\n",
       "      <td>461</td>\n",
       "      <td>24.7</td>\n",
       "      <td>90.2</td>\n",
       "      <td>1682</td>\n",
       "      <td>3539</td>\n",
       "      <td>357</td>\n",
       "      <td>2625</td>\n",
       "      <td>98.2</td>\n",
       "    </tr>\n",
       "    <tr>\n",
       "      <th>2</th>\n",
       "      <td>07701</td>\n",
       "      <td>23861</td>\n",
       "      <td>1358</td>\n",
       "      <td>18888</td>\n",
       "      <td>2023</td>\n",
       "      <td>4315</td>\n",
       "      <td>41.7</td>\n",
       "      <td>3590</td>\n",
       "      <td>20.8</td>\n",
       "      <td>4691</td>\n",
       "      <td>...</td>\n",
       "      <td>2702</td>\n",
       "      <td>27.6</td>\n",
       "      <td>3277</td>\n",
       "      <td>33.4</td>\n",
       "      <td>66.7</td>\n",
       "      <td>6536</td>\n",
       "      <td>2638</td>\n",
       "      <td>2186</td>\n",
       "      <td>1517</td>\n",
       "      <td>88.9</td>\n",
       "    </tr>\n",
       "    <tr>\n",
       "      <th>3</th>\n",
       "      <td>07757</td>\n",
       "      <td>5667</td>\n",
       "      <td>408</td>\n",
       "      <td>4502</td>\n",
       "      <td>456</td>\n",
       "      <td>1012</td>\n",
       "      <td>48.6</td>\n",
       "      <td>941</td>\n",
       "      <td>22.8</td>\n",
       "      <td>1440</td>\n",
       "      <td>...</td>\n",
       "      <td>560</td>\n",
       "      <td>26.7</td>\n",
       "      <td>776</td>\n",
       "      <td>36.9</td>\n",
       "      <td>85.9</td>\n",
       "      <td>1804</td>\n",
       "      <td>2534</td>\n",
       "      <td>497</td>\n",
       "      <td>1250</td>\n",
       "      <td>96.3</td>\n",
       "    </tr>\n",
       "    <tr>\n",
       "      <th>4</th>\n",
       "      <td>07718</td>\n",
       "      <td>7139</td>\n",
       "      <td>358</td>\n",
       "      <td>5431</td>\n",
       "      <td>805</td>\n",
       "      <td>850</td>\n",
       "      <td>37.7</td>\n",
       "      <td>1715</td>\n",
       "      <td>36.0</td>\n",
       "      <td>1135</td>\n",
       "      <td>...</td>\n",
       "      <td>934</td>\n",
       "      <td>39.8</td>\n",
       "      <td>598</td>\n",
       "      <td>25.5</td>\n",
       "      <td>81.2</td>\n",
       "      <td>1906</td>\n",
       "      <td>2445</td>\n",
       "      <td>622</td>\n",
       "      <td>1660</td>\n",
       "      <td>93.4</td>\n",
       "    </tr>\n",
       "  </tbody>\n",
       "</table>\n",
       "<p>5 rows × 36 columns</p>\n",
       "</div>"
      ],
      "text/plain": [
       "  zipcode    pop under5 18plus elemschool 65plus med_age hschool p_hschool  \\\n",
       "0   07980   2253    200   1701        231    359    41.5     203      13.1   \n",
       "1   07704   5943    372   3912       1026    683    40.8     332       9.1   \n",
       "2   07701  23861   1358  18888       2023   4315    41.7    3590      20.8   \n",
       "3   07757   5667    408   4502        456   1012    48.6     941      22.8   \n",
       "4   07718   7139    358   5431        805    850    37.7    1715      36.0   \n",
       "\n",
       "  bachelors  ... hholdunder18 p_hholdunder18 hhold65plus p_hhold65plus  \\\n",
       "0       359  ...          259           31.8         246          30.2   \n",
       "1      1559  ...          990           53.1         461          24.7   \n",
       "2      4691  ...         2702           27.6        3277          33.4   \n",
       "3      1440  ...          560           26.7         776          36.9   \n",
       "4      1135  ...          934           39.8         598          25.5   \n",
       "\n",
       "  p_owneroccup p_oomortgages med_smocmortgages med_smoc!mortgages med_rent  \\\n",
       "0         78.8           642              3170                130     1381   \n",
       "1         90.2          1682              3539                357     2625   \n",
       "2         66.7          6536              2638               2186     1517   \n",
       "3         85.9          1804              2534                497     1250   \n",
       "4         81.2          1906              2445                622     1660   \n",
       "\n",
       "  p_hschoolplus  \n",
       "0          95.7  \n",
       "1          98.2  \n",
       "2          88.9  \n",
       "3          96.3  \n",
       "4          93.4  \n",
       "\n",
       "[5 rows x 36 columns]"
      ]
     },
     "execution_count": 15,
     "metadata": {},
     "output_type": "execute_result"
    }
   ],
   "source": [
    "df.head()"
   ]
  },
  {
   "cell_type": "code",
   "execution_count": 1,
   "metadata": {},
   "outputs": [],
   "source": [
    "#check dtypes\n",
    "#df.dtypes\n",
    "#convert as neccisary"
   ]
  },
  {
   "cell_type": "code",
   "execution_count": 17,
   "metadata": {},
   "outputs": [],
   "source": [
    "#converting them to_numeric\n",
    "#here I am converting everything after zipcode, the first column\n",
    "colstoconvert = columnNames[1:]\n",
    "df[colstoconvert] = df[colstoconvert].apply(pd.to_numeric, errors='coerce')\n"
   ]
  },
  {
   "cell_type": "code",
   "execution_count": 19,
   "metadata": {},
   "outputs": [],
   "source": [
    "#not used but here for reference\n",
    "#converting zipcode back to string\n",
    "#somersetZipPopulations['zipcode'] = somersetZipPopulations['zipcode'].astype(str)\n",
    "#somersetZipPopulations.dtypes"
   ]
  },
  {
   "cell_type": "markdown",
   "metadata": {},
   "source": [
    "Now let's add the columns for the percentage of people 65 and older (p65+) and for school age children 5-17 (pSchoolAge)"
   ]
  },
  {
   "cell_type": "code",
   "execution_count": 20,
   "metadata": {},
   "outputs": [],
   "source": [
    "#first the p65+\n",
    "df['p_65plus'] = (df['65plus']/df['pop'])"
   ]
  },
  {
   "cell_type": "code",
   "execution_count": 21,
   "metadata": {},
   "outputs": [],
   "source": [
    "#now SchoolAge and then pSchoolAge\n",
    "df['schoolage'] = df['pop'] - df['18plus']\n",
    "df['schoolage'] = df['schoolage'] - df['under5']\n",
    "df['p_schoolage'] = (df['schoolage'] / df['pop'])\n",
    "\n",
    "#percent without a high school diploma\n",
    "df['p_!hschool'] = df['p_hschoolplus'].apply(lambda x: 100-x)\n",
    "\n",
    "#add a year column\n",
    "df['year'] = '2018'"
   ]
  },
  {
   "cell_type": "code",
   "execution_count": 22,
   "metadata": {},
   "outputs": [],
   "source": [
    "#convert whole number percentage columns to decimal so excel can apply percent formatting\n",
    "pcolumns = ['p_hschool', 'p_bachelors', 'p_advanced', 'unemp', 'pov', 'p_famhhold', 'p_!famhhold', 'p_childpop',\n",
    "            'p_hholdunder18', 'p_hhold65plus', 'p_owneroccup', 'p_oomortgages', 'p_hschoolplus', 'p_!hschool']\n",
    "\n",
    "temp = df[pcolumns].apply(lambda x: x/100)\n",
    "\n",
    "df = df.drop(pcolumns, axis=1)\n",
    "\n",
    "df = df.join(temp)"
   ]
  },
  {
   "cell_type": "code",
   "execution_count": 23,
   "metadata": {},
   "outputs": [
    {
     "data": {
      "text/html": [
       "<div>\n",
       "<style scoped>\n",
       "    .dataframe tbody tr th:only-of-type {\n",
       "        vertical-align: middle;\n",
       "    }\n",
       "\n",
       "    .dataframe tbody tr th {\n",
       "        vertical-align: top;\n",
       "    }\n",
       "\n",
       "    .dataframe thead th {\n",
       "        text-align: right;\n",
       "    }\n",
       "</style>\n",
       "<table border=\"1\" class=\"dataframe\">\n",
       "  <thead>\n",
       "    <tr style=\"text-align: right;\">\n",
       "      <th></th>\n",
       "      <th>zipcode</th>\n",
       "      <th>pop</th>\n",
       "      <th>under5</th>\n",
       "      <th>18plus</th>\n",
       "      <th>elemschool</th>\n",
       "      <th>65plus</th>\n",
       "      <th>med_age</th>\n",
       "      <th>hschool</th>\n",
       "      <th>bachelors</th>\n",
       "      <th>advanced</th>\n",
       "      <th>...</th>\n",
       "      <th>pov</th>\n",
       "      <th>p_famhhold</th>\n",
       "      <th>p_!famhhold</th>\n",
       "      <th>p_childpop</th>\n",
       "      <th>p_hholdunder18</th>\n",
       "      <th>p_hhold65plus</th>\n",
       "      <th>p_owneroccup</th>\n",
       "      <th>p_oomortgages</th>\n",
       "      <th>p_hschoolplus</th>\n",
       "      <th>p_!hschool</th>\n",
       "    </tr>\n",
       "  </thead>\n",
       "  <tbody>\n",
       "    <tr>\n",
       "      <th>0</th>\n",
       "      <td>07980</td>\n",
       "      <td>2253</td>\n",
       "      <td>200</td>\n",
       "      <td>1701</td>\n",
       "      <td>231</td>\n",
       "      <td>359</td>\n",
       "      <td>41.5</td>\n",
       "      <td>203</td>\n",
       "      <td>359</td>\n",
       "      <td>457</td>\n",
       "      <td>...</td>\n",
       "      <td>0.021</td>\n",
       "      <td>0.318</td>\n",
       "      <td>0.229</td>\n",
       "      <td>0.369</td>\n",
       "      <td>0.318</td>\n",
       "      <td>0.302</td>\n",
       "      <td>0.788</td>\n",
       "      <td>6.42</td>\n",
       "      <td>0.957</td>\n",
       "      <td>0.043</td>\n",
       "    </tr>\n",
       "    <tr>\n",
       "      <th>1</th>\n",
       "      <td>07704</td>\n",
       "      <td>5943</td>\n",
       "      <td>372</td>\n",
       "      <td>3912</td>\n",
       "      <td>1026</td>\n",
       "      <td>683</td>\n",
       "      <td>40.8</td>\n",
       "      <td>332</td>\n",
       "      <td>1559</td>\n",
       "      <td>1069</td>\n",
       "      <td>...</td>\n",
       "      <td>0.036</td>\n",
       "      <td>0.522</td>\n",
       "      <td>0.113</td>\n",
       "      <td>0.410</td>\n",
       "      <td>0.531</td>\n",
       "      <td>0.247</td>\n",
       "      <td>0.902</td>\n",
       "      <td>16.82</td>\n",
       "      <td>0.982</td>\n",
       "      <td>0.018</td>\n",
       "    </tr>\n",
       "    <tr>\n",
       "      <th>2</th>\n",
       "      <td>07701</td>\n",
       "      <td>23861</td>\n",
       "      <td>1358</td>\n",
       "      <td>18888</td>\n",
       "      <td>2023</td>\n",
       "      <td>4315</td>\n",
       "      <td>41.7</td>\n",
       "      <td>3590</td>\n",
       "      <td>4691</td>\n",
       "      <td>2971</td>\n",
       "      <td>...</td>\n",
       "      <td>0.060</td>\n",
       "      <td>0.253</td>\n",
       "      <td>0.417</td>\n",
       "      <td>0.291</td>\n",
       "      <td>0.276</td>\n",
       "      <td>0.334</td>\n",
       "      <td>0.667</td>\n",
       "      <td>65.36</td>\n",
       "      <td>0.889</td>\n",
       "      <td>0.111</td>\n",
       "    </tr>\n",
       "    <tr>\n",
       "      <th>3</th>\n",
       "      <td>07757</td>\n",
       "      <td>5667</td>\n",
       "      <td>408</td>\n",
       "      <td>4502</td>\n",
       "      <td>456</td>\n",
       "      <td>1012</td>\n",
       "      <td>48.6</td>\n",
       "      <td>941</td>\n",
       "      <td>1440</td>\n",
       "      <td>719</td>\n",
       "      <td>...</td>\n",
       "      <td>0.053</td>\n",
       "      <td>0.257</td>\n",
       "      <td>0.198</td>\n",
       "      <td>0.329</td>\n",
       "      <td>0.267</td>\n",
       "      <td>0.369</td>\n",
       "      <td>0.859</td>\n",
       "      <td>18.04</td>\n",
       "      <td>0.963</td>\n",
       "      <td>0.037</td>\n",
       "    </tr>\n",
       "    <tr>\n",
       "      <th>4</th>\n",
       "      <td>07718</td>\n",
       "      <td>7139</td>\n",
       "      <td>358</td>\n",
       "      <td>5431</td>\n",
       "      <td>805</td>\n",
       "      <td>850</td>\n",
       "      <td>37.7</td>\n",
       "      <td>1715</td>\n",
       "      <td>1135</td>\n",
       "      <td>528</td>\n",
       "      <td>...</td>\n",
       "      <td>0.028</td>\n",
       "      <td>0.361</td>\n",
       "      <td>0.216</td>\n",
       "      <td>0.368</td>\n",
       "      <td>0.398</td>\n",
       "      <td>0.255</td>\n",
       "      <td>0.812</td>\n",
       "      <td>19.06</td>\n",
       "      <td>0.934</td>\n",
       "      <td>0.066</td>\n",
       "    </tr>\n",
       "  </tbody>\n",
       "</table>\n",
       "<p>5 rows × 41 columns</p>\n",
       "</div>"
      ],
      "text/plain": [
       "  zipcode    pop  under5  18plus  elemschool  65plus  med_age  hschool  \\\n",
       "0   07980   2253     200    1701         231     359     41.5      203   \n",
       "1   07704   5943     372    3912        1026     683     40.8      332   \n",
       "2   07701  23861    1358   18888        2023    4315     41.7     3590   \n",
       "3   07757   5667     408    4502         456    1012     48.6      941   \n",
       "4   07718   7139     358    5431         805     850     37.7     1715   \n",
       "\n",
       "   bachelors  advanced  ...    pov  p_famhhold  p_!famhhold  p_childpop  \\\n",
       "0        359       457  ...  0.021       0.318        0.229       0.369   \n",
       "1       1559      1069  ...  0.036       0.522        0.113       0.410   \n",
       "2       4691      2971  ...  0.060       0.253        0.417       0.291   \n",
       "3       1440       719  ...  0.053       0.257        0.198       0.329   \n",
       "4       1135       528  ...  0.028       0.361        0.216       0.368   \n",
       "\n",
       "   p_hholdunder18  p_hhold65plus  p_owneroccup  p_oomortgages  p_hschoolplus  \\\n",
       "0           0.318          0.302         0.788           6.42          0.957   \n",
       "1           0.531          0.247         0.902          16.82          0.982   \n",
       "2           0.276          0.334         0.667          65.36          0.889   \n",
       "3           0.267          0.369         0.859          18.04          0.963   \n",
       "4           0.398          0.255         0.812          19.06          0.934   \n",
       "\n",
       "   p_!hschool  \n",
       "0       0.043  \n",
       "1       0.018  \n",
       "2       0.111  \n",
       "3       0.037  \n",
       "4       0.066  \n",
       "\n",
       "[5 rows x 41 columns]"
      ]
     },
     "execution_count": 23,
     "metadata": {},
     "output_type": "execute_result"
    }
   ],
   "source": [
    "df.head()"
   ]
  },
  {
   "cell_type": "code",
   "execution_count": 24,
   "metadata": {},
   "outputs": [],
   "source": [
    "#assign the names of towns and such\n",
    "name_df = pd.read_excel(\"town_names.xlsx\", dtype={'zipcode': object})\n",
    "\n",
    "df = df.set_index('zipcode').join(name_df.set_index('zipcode'))"
   ]
  },
  {
   "cell_type": "code",
   "execution_count": 25,
   "metadata": {},
   "outputs": [],
   "source": [
    "#save that dataframe to excel\n",
    "df.to_excel('./acs5_data/acs5_2018_zip.xlsx', index=True)"
   ]
  }
 ],
 "metadata": {
  "kernelspec": {
   "display_name": "Python 3",
   "language": "python",
   "name": "python3"
  },
  "language_info": {
   "codemirror_mode": {
    "name": "ipython",
    "version": 3
   },
   "file_extension": ".py",
   "mimetype": "text/x-python",
   "name": "python",
   "nbconvert_exporter": "python",
   "pygments_lexer": "ipython3",
   "version": "3.7.6"
  }
 },
 "nbformat": 4,
 "nbformat_minor": 4
}
