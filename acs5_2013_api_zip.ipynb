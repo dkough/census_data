{
 "cells": [
  {
   "cell_type": "markdown",
   "metadata": {},
   "source": [
    "-use the variables and zip text files to modify output\n"
   ]
  },
  {
   "cell_type": "code",
   "execution_count": 1,
   "metadata": {},
   "outputs": [],
   "source": [
    "import pandas as pd\n",
    "import requests\n",
    "import json"
   ]
  },
  {
   "cell_type": "code",
   "execution_count": 2,
   "metadata": {},
   "outputs": [],
   "source": [
    "#create list of zipcodes from txt file with zips\n",
    "zips = open('chosen_zips.txt', 'r').readlines()\n",
    "zips = [z.replace('\\n', '') for z in zips]\n",
    "zips = ','.join(zips)"
   ]
  },
  {
   "cell_type": "code",
   "execution_count": 3,
   "metadata": {},
   "outputs": [],
   "source": [
    "#census api key\n",
    "apiKey = \"\""
   ]
  },
  {
   "cell_type": "code",
   "execution_count": 4,
   "metadata": {},
   "outputs": [],
   "source": [
    "#same thing with variables\n",
    "variables = open('variables_2013.txt', 'r').readlines()\n",
    "variables = [z.replace('\\n', '') for z in variables]\n",
    "variables = ','.join(variables)\n"
   ]
  },
  {
   "cell_type": "code",
   "execution_count": 5,
   "metadata": {},
   "outputs": [
    {
     "name": "stdout",
     "output_type": "stream",
     "text": [
      "DP02_0066PE,DP04_0132E,DP04_0107E,DP04_0100E,DP04_0090PE,DP04_0045PE,DP02_0014PE,DP02_0014E,DP02_0013PE,DP02_0013E,DP02_0020PE,DP02_0020E,DP02_0010PE,DP02_0010E,DP02_0003PE,DP02_0003E,DP02_0001E,DP02_0016E,DP02_0015E,DP04_0088E,DP03_0062E,DP03_0119PE,DP03_0009PE,DP02_0065PE,DP02_0065E,DP02_0064PE,DP02_0064E,DP02_0061PE,DP02_0061E,DP05_0017E,DP05_0025E,DP02_0055E,DP05_0018E,DP05_0004E,DP05_0001E\n"
     ]
    }
   ],
   "source": [
    "#just to check for errors, if a ',' appears at the end you need to delete the last blank line in the txt file\n",
    "print(variables)\n",
    "#the first variable here corresponds to the last value in columnNames"
   ]
  },
  {
   "cell_type": "code",
   "execution_count": 6,
   "metadata": {},
   "outputs": [],
   "source": [
    "#name your variables, 'zipcode' stays unchanged\n",
    "#again, note that columnNames is flipped\n",
    "columnNames = ['zipcode', 'pop', 'under5', '18plus', 'elemschool', '65plus', 'med_age', 'hschool', 'p_hschool', 'bachelors', 'p_bachelors', 'advanced', 'p_advanced', 'unemp',\n",
    "               'pov', 'med_hholdinc', 'med_homeval', 'avg_hhold', 'avg_fam', 'hhold', 'famhhold', 'p_famhhold', '!famhhold', 'p_!famhhold', 'childpop', 'p_childpop', 'hholdunder18',\n",
    "               'p_hholdunder18', 'hhold65plus', 'p_hhold65plus', 'p_owneroccup', 'p_oomortgages', 'med_smocmortgages', 'med_smoc!mortgages', 'med_rent', 'p_hschoolplus']\n",
    "               "
   ]
  },
  {
   "cell_type": "code",
   "execution_count": 7,
   "metadata": {},
   "outputs": [],
   "source": [
    "#base api, this is where you change the year and dataset\n",
    "#it could be cleaned a little more with %s\n",
    "#note it is currently the 2013/acs/acs5/profile dataset\n",
    "baseAPI = \"https://api.census.gov/data/2013/acs/acs5/profile?key=%s&get=%s&for=zip%%20code%%20tabulation%%20area:%s\""
   ]
  },
  {
   "cell_type": "code",
   "execution_count": 8,
   "metadata": {},
   "outputs": [],
   "source": [
    "#custom API constructed\n",
    "calledAPI = baseAPI % (apiKey, variables, zips)"
   ]
  },
  {
   "cell_type": "code",
   "execution_count": 9,
   "metadata": {},
   "outputs": [],
   "source": [
    "#call API and collect the response\n",
    "response = requests.get(calledAPI)"
   ]
  },
  {
   "cell_type": "code",
   "execution_count": 2,
   "metadata": {},
   "outputs": [],
   "source": [
    "#check if all the variables are valid, if ok it will just print, if not there will be an error\n",
    "#print(response.text)"
   ]
  },
  {
   "cell_type": "code",
   "execution_count": 11,
   "metadata": {},
   "outputs": [],
   "source": [
    "#load the response into a JSON, ignoring the first element which is just field labels\n",
    "formattedResponse = json.loads(response.text)[1:]"
   ]
  },
  {
   "cell_type": "code",
   "execution_count": 12,
   "metadata": {},
   "outputs": [],
   "source": [
    "#flip the order of the response from [population, zipcode] -> [zipcode, population]\n",
    "#this is kind of annoying since it affects the entire column name order\n",
    "formattedResponse = [item[::-1] for item in formattedResponse]"
   ]
  },
  {
   "cell_type": "code",
   "execution_count": 13,
   "metadata": {},
   "outputs": [],
   "source": [
    "#store the response in a dataframe\n",
    "#remember the last column name is assigned to the first line in the variable text file\n",
    "df = pd.DataFrame(columns=columnNames, data=formattedResponse)"
   ]
  },
  {
   "cell_type": "code",
   "execution_count": 14,
   "metadata": {},
   "outputs": [
    {
     "data": {
      "text/html": [
       "<div>\n",
       "<style scoped>\n",
       "    .dataframe tbody tr th:only-of-type {\n",
       "        vertical-align: middle;\n",
       "    }\n",
       "\n",
       "    .dataframe tbody tr th {\n",
       "        vertical-align: top;\n",
       "    }\n",
       "\n",
       "    .dataframe thead th {\n",
       "        text-align: right;\n",
       "    }\n",
       "</style>\n",
       "<table border=\"1\" class=\"dataframe\">\n",
       "  <thead>\n",
       "    <tr style=\"text-align: right;\">\n",
       "      <th></th>\n",
       "      <th>zipcode</th>\n",
       "      <th>pop</th>\n",
       "      <th>under5</th>\n",
       "      <th>18plus</th>\n",
       "      <th>elemschool</th>\n",
       "      <th>65plus</th>\n",
       "      <th>med_age</th>\n",
       "      <th>hschool</th>\n",
       "      <th>p_hschool</th>\n",
       "      <th>bachelors</th>\n",
       "      <th>...</th>\n",
       "      <th>hholdunder18</th>\n",
       "      <th>p_hholdunder18</th>\n",
       "      <th>hhold65plus</th>\n",
       "      <th>p_hhold65plus</th>\n",
       "      <th>p_owneroccup</th>\n",
       "      <th>p_oomortgages</th>\n",
       "      <th>med_smocmortgages</th>\n",
       "      <th>med_smoc!mortgages</th>\n",
       "      <th>med_rent</th>\n",
       "      <th>p_hschoolplus</th>\n",
       "    </tr>\n",
       "  </thead>\n",
       "  <tbody>\n",
       "    <tr>\n",
       "      <th>0</th>\n",
       "      <td>07059</td>\n",
       "      <td>15574</td>\n",
       "      <td>827</td>\n",
       "      <td>11217</td>\n",
       "      <td>2025</td>\n",
       "      <td>2176</td>\n",
       "      <td>43.3</td>\n",
       "      <td>1857</td>\n",
       "      <td>18.0</td>\n",
       "      <td>3557</td>\n",
       "      <td>...</td>\n",
       "      <td>2045</td>\n",
       "      <td>41.6</td>\n",
       "      <td>1507</td>\n",
       "      <td>30.6</td>\n",
       "      <td>91.6</td>\n",
       "      <td>64.5</td>\n",
       "      <td>3632</td>\n",
       "      <td>1001</td>\n",
       "      <td>1570</td>\n",
       "      <td>96.6</td>\n",
       "    </tr>\n",
       "    <tr>\n",
       "      <th>1</th>\n",
       "      <td>07060</td>\n",
       "      <td>44793</td>\n",
       "      <td>3215</td>\n",
       "      <td>34046</td>\n",
       "      <td>4662</td>\n",
       "      <td>3940</td>\n",
       "      <td>33.8</td>\n",
       "      <td>8915</td>\n",
       "      <td>30.3</td>\n",
       "      <td>3548</td>\n",
       "      <td>...</td>\n",
       "      <td>5605</td>\n",
       "      <td>40.3</td>\n",
       "      <td>2877</td>\n",
       "      <td>20.7</td>\n",
       "      <td>44.4</td>\n",
       "      <td>78.3</td>\n",
       "      <td>2494</td>\n",
       "      <td>1001</td>\n",
       "      <td>1156</td>\n",
       "      <td>74.1</td>\n",
       "    </tr>\n",
       "    <tr>\n",
       "      <th>2</th>\n",
       "      <td>07062</td>\n",
       "      <td>12571</td>\n",
       "      <td>866</td>\n",
       "      <td>9585</td>\n",
       "      <td>1251</td>\n",
       "      <td>1474</td>\n",
       "      <td>37.7</td>\n",
       "      <td>2938</td>\n",
       "      <td>35.0</td>\n",
       "      <td>1461</td>\n",
       "      <td>...</td>\n",
       "      <td>1605</td>\n",
       "      <td>39.5</td>\n",
       "      <td>1072</td>\n",
       "      <td>26.4</td>\n",
       "      <td>64.3</td>\n",
       "      <td>76.2</td>\n",
       "      <td>2385</td>\n",
       "      <td>1001</td>\n",
       "      <td>1216</td>\n",
       "      <td>83.9</td>\n",
       "    </tr>\n",
       "    <tr>\n",
       "      <th>3</th>\n",
       "      <td>07063</td>\n",
       "      <td>14552</td>\n",
       "      <td>1190</td>\n",
       "      <td>10864</td>\n",
       "      <td>1651</td>\n",
       "      <td>1229</td>\n",
       "      <td>33.4</td>\n",
       "      <td>3213</td>\n",
       "      <td>34.7</td>\n",
       "      <td>1049</td>\n",
       "      <td>...</td>\n",
       "      <td>2000</td>\n",
       "      <td>52.3</td>\n",
       "      <td>864</td>\n",
       "      <td>22.6</td>\n",
       "      <td>65.5</td>\n",
       "      <td>81.4</td>\n",
       "      <td>2434</td>\n",
       "      <td>1001</td>\n",
       "      <td>1328</td>\n",
       "      <td>73.5</td>\n",
       "    </tr>\n",
       "    <tr>\n",
       "      <th>4</th>\n",
       "      <td>07069</td>\n",
       "      <td>6130</td>\n",
       "      <td>316</td>\n",
       "      <td>4882</td>\n",
       "      <td>521</td>\n",
       "      <td>1338</td>\n",
       "      <td>46.9</td>\n",
       "      <td>583</td>\n",
       "      <td>13.2</td>\n",
       "      <td>1228</td>\n",
       "      <td>...</td>\n",
       "      <td>655</td>\n",
       "      <td>29.7</td>\n",
       "      <td>891</td>\n",
       "      <td>40.3</td>\n",
       "      <td>88.4</td>\n",
       "      <td>65.1</td>\n",
       "      <td>3866</td>\n",
       "      <td>1001</td>\n",
       "      <td>2001</td>\n",
       "      <td>92.5</td>\n",
       "    </tr>\n",
       "  </tbody>\n",
       "</table>\n",
       "<p>5 rows × 36 columns</p>\n",
       "</div>"
      ],
      "text/plain": [
       "  zipcode    pop under5 18plus elemschool 65plus med_age hschool p_hschool  \\\n",
       "0   07059  15574    827  11217       2025   2176    43.3    1857      18.0   \n",
       "1   07060  44793   3215  34046       4662   3940    33.8    8915      30.3   \n",
       "2   07062  12571    866   9585       1251   1474    37.7    2938      35.0   \n",
       "3   07063  14552   1190  10864       1651   1229    33.4    3213      34.7   \n",
       "4   07069   6130    316   4882        521   1338    46.9     583      13.2   \n",
       "\n",
       "  bachelors  ... hholdunder18 p_hholdunder18 hhold65plus p_hhold65plus  \\\n",
       "0      3557  ...         2045           41.6        1507          30.6   \n",
       "1      3548  ...         5605           40.3        2877          20.7   \n",
       "2      1461  ...         1605           39.5        1072          26.4   \n",
       "3      1049  ...         2000           52.3         864          22.6   \n",
       "4      1228  ...          655           29.7         891          40.3   \n",
       "\n",
       "  p_owneroccup p_oomortgages med_smocmortgages med_smoc!mortgages med_rent  \\\n",
       "0         91.6          64.5              3632               1001     1570   \n",
       "1         44.4          78.3              2494               1001     1156   \n",
       "2         64.3          76.2              2385               1001     1216   \n",
       "3         65.5          81.4              2434               1001     1328   \n",
       "4         88.4          65.1              3866               1001     2001   \n",
       "\n",
       "  p_hschoolplus  \n",
       "0          96.6  \n",
       "1          74.1  \n",
       "2          83.9  \n",
       "3          73.5  \n",
       "4          92.5  \n",
       "\n",
       "[5 rows x 36 columns]"
      ]
     },
     "execution_count": 14,
     "metadata": {},
     "output_type": "execute_result"
    }
   ],
   "source": [
    "df.head()"
   ]
  },
  {
   "cell_type": "code",
   "execution_count": 1,
   "metadata": {},
   "outputs": [],
   "source": [
    "#check dtypes\n",
    "#df.dtypes\n",
    "#convert as neccisary"
   ]
  },
  {
   "cell_type": "code",
   "execution_count": 16,
   "metadata": {},
   "outputs": [],
   "source": [
    "#converting them to_numeric\n",
    "#here I am converting everything after zipcode, the first column\n",
    "colstoconvert = columnNames[1:]\n",
    "df[colstoconvert] = df[colstoconvert].apply(pd.to_numeric, errors='coerce')\n"
   ]
  },
  {
   "cell_type": "code",
   "execution_count": null,
   "metadata": {},
   "outputs": [],
   "source": []
  },
  {
   "cell_type": "code",
   "execution_count": 18,
   "metadata": {},
   "outputs": [],
   "source": [
    "#not used but here for reference\n",
    "#converting zipcode back to string\n",
    "#somersetZipPopulations['zipcode'] = somersetZipPopulations['zipcode'].astype(str)\n",
    "#somersetZipPopulations.dtypes"
   ]
  },
  {
   "cell_type": "markdown",
   "metadata": {},
   "source": [
    "Now let's add the columns for the percentage of people 65 and older (p65+) and for school age children 5-17 (pSchoolAge).  Because the variables are different, SchoolAge requires different calculations than acs5_2018  (disregard this, I changed it so they both use \"18 and older\", called 'over18')"
   ]
  },
  {
   "cell_type": "code",
   "execution_count": 19,
   "metadata": {},
   "outputs": [],
   "source": [
    "#first the p65+\n",
    "df['p_65plus'] = (df['65plus']/df['pop'])"
   ]
  },
  {
   "cell_type": "code",
   "execution_count": 20,
   "metadata": {},
   "outputs": [],
   "source": [
    "#now SchoolAge and then pSchoolAge\n",
    "df['schoolage'] = df['pop'] - df['18plus']\n",
    "df['schoolage'] = df['schoolage'] - df['under5']\n",
    "df['p_schoolage'] = (df['schoolage'] / df['pop'])\n",
    "\n",
    "#percent without a high school diploma\n",
    "df['p_!hschool'] = df['p_hschoolplus'].apply(lambda x: 100-x)\n",
    "\n",
    "#add a year column\n",
    "df['year'] = '2013'"
   ]
  },
  {
   "cell_type": "code",
   "execution_count": 21,
   "metadata": {},
   "outputs": [],
   "source": [
    "#convert whole number percentage columns to decimal so excel can apply percent formatting\n",
    "pcolumns = ['p_hschool', 'p_bachelors', 'p_advanced', 'unemp', 'pov', 'p_famhhold', 'p_!famhhold', 'p_childpop',\n",
    "            'p_hholdunder18', 'p_hhold65plus', 'p_owneroccup', 'p_oomortgages', 'p_hschoolplus', 'p_!hschool']\n",
    "\n",
    "temp = df[pcolumns].apply(lambda x: x/100)\n",
    "\n",
    "df = df.drop(pcolumns, axis=1)\n",
    "\n",
    "df = df.join(temp)"
   ]
  },
  {
   "cell_type": "code",
   "execution_count": 22,
   "metadata": {},
   "outputs": [],
   "source": [
    "#assign the names of towns and such\n",
    "name_df = pd.read_excel(\"town_names.xlsx\", dtype={'zipcode': object})\n",
    "\n",
    "df = df.set_index('zipcode').join(name_df.set_index('zipcode'))"
   ]
  },
  {
   "cell_type": "code",
   "execution_count": 23,
   "metadata": {},
   "outputs": [],
   "source": [
    "#save that dataframe to a CSV spreadsheet\n",
    "df.to_excel('./acs5_data/acs5_2013_zip.xlsx', index=True)"
   ]
  }
 ],
 "metadata": {
  "kernelspec": {
   "display_name": "Python 3",
   "language": "python",
   "name": "python3"
  },
  "language_info": {
   "codemirror_mode": {
    "name": "ipython",
    "version": 3
   },
   "file_extension": ".py",
   "mimetype": "text/x-python",
   "name": "python",
   "nbconvert_exporter": "python",
   "pygments_lexer": "ipython3",
   "version": "3.7.6"
  }
 },
 "nbformat": 4,
 "nbformat_minor": 4
}
