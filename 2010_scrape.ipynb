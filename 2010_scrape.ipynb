{
 "cells": [
  {
   "cell_type": "markdown",
   "metadata": {},
   "source": [
    "This scrapes 2010 zip code data from zip-codes.com.  "
   ]
  },
  {
   "cell_type": "code",
   "execution_count": 1,
   "metadata": {},
   "outputs": [],
   "source": [
    "import requests\n",
    "from bs4 import BeautifulSoup\n",
    "import pandas as pd\n"
   ]
  },
  {
   "cell_type": "code",
   "execution_count": 2,
   "metadata": {},
   "outputs": [],
   "source": [
    "#create list of zipcodes from txt file with zips\n",
    "zips = open('chosen_zips.txt', 'r').readlines()\n",
    "zips = [z.replace('\\n', '') for z in zips]\n",
    "zipcode = zips"
   ]
  },
  {
   "cell_type": "code",
   "execution_count": 4,
   "metadata": {},
   "outputs": [],
   "source": [
    "df_main = pd.DataFrame()\n",
    "i = 0\n",
    "num = len(zipcode)\n",
    "for i in range(num):\n",
    "    \n",
    "    baseURL = 'https://www.zip-codes.com/zip-code/'+zipcode[i]+'/zip-code-'+zipcode[i]+'-2010-census.asp'\n",
    "\n",
    "\n",
    "    #calledURL = baseURL % (zipcode, zipcode)\n",
    "    source = requests.get(baseURL)\n",
    "    soup = BeautifulSoup(source.text, 'lxml')\n",
    "\n",
    "    #get data by looking for each tr\n",
    "    #turns it all into a list, and we're using list comprehension\n",
    "    data = []\n",
    "    for tr in soup.find_all('tr'):\n",
    "        values = [td.text for td in tr.find_all('td')]\n",
    "        data.append(values)\n",
    "        #the info we want is within a list of lists\n",
    "        #just searching for one part of the sublist will not work\n",
    "        #['Average household size of renter-occupied units', '2.35', '( X )'] in data\n",
    "\n",
    "    #there has to be a better way to do this\n",
    "    #but for now I have to create a sublist for every search column\n",
    "    basic = [[],[],[],[],[],[],[],[],[],[]]\n",
    "    search = ['Total 2010 Census Population for ZIP Code '+zipcode[i],\n",
    "              'Total households for ZIP Code '+zipcode[i],\n",
    "              'Average household size of ZIP Code '+zipcode[i], \n",
    "              'Median age (years)',\n",
    "              '18 years and over',\n",
    "              '65 years and over',\n",
    "         ]\n",
    "\n",
    "\n",
    "    i = 0\n",
    "    num = len(search)\n",
    "    for i in range(num):\n",
    "        for sublist in data:\n",
    "            if sublist[0] == search[i]:\n",
    "                basic[i].append(sublist[1])\n",
    "        i = i +1\n",
    "\n",
    "\n",
    "    #because we only need the 0 element in each sublist, drop the rest\n",
    "    #this gives us the 2010 values for this zipcode\n",
    "    df = pd.DataFrame(data=basic)\n",
    "    df_tr = df.transpose()\n",
    "    df_tr = df_tr[:1]\n",
    "    \n",
    "\n",
    "    df_main = df_main.append(df_tr)\n",
    "\n",
    "\n",
    "\n",
    "#now lets add the zip code and year columns\n",
    "#starting with year cause it's easy\n",
    "df = df_main\n",
    "df['year'] = '2010'\n",
    "df['zipcode'] = zipcode\n",
    "\n",
    "#drop the empty columns\n",
    "df = df.drop(df.columns[[6,7,8,9]], axis = 1)\n",
    "\n",
    "df.columns = ['pop', 'hhold', 'avg_hhold', 'med_age', '18plus', '65plus', 'year', 'zipcode']\n",
    "\n",
    "name_df = pd.read_excel(\"town_names.xlsx\", dtype={'zipcode': object})\n",
    "df = df.set_index('zipcode').join(name_df.set_index('zipcode'))\n",
    "\n",
    "\n",
    "\n",
    "#move some columns around so it will be easier to read in excel\n",
    "#remember zipcode is the index not a column\n",
    "df = df[['territory', 'town', 'county', 'year', 'pop', \n",
    "         'hhold', 'avg_hhold', 'med_age', '18plus', '65plus' ]]\n",
    "\n"
   ]
  },
  {
   "cell_type": "markdown",
   "metadata": {},
   "source": [
    "thousand seperator comma removal"
   ]
  },
  {
   "cell_type": "code",
   "execution_count": 6,
   "metadata": {},
   "outputs": [],
   "source": [
    "df['pop'] = df['pop'].str.replace(',','').astype(int)\n",
    "df['hhold'] = df['hhold'].str.replace(',','').astype(int)\n",
    "df['18plus'] = df['18plus'].str.replace(',','').astype(int)\n",
    "df['65plus'] = df['65plus'].str.replace(',','').astype(int)"
   ]
  },
  {
   "cell_type": "code",
   "execution_count": 7,
   "metadata": {},
   "outputs": [],
   "source": [
    "df.to_excel('./excel/2010_scrape.xlsx')"
   ]
  }
 ],
 "metadata": {
  "kernelspec": {
   "display_name": "Python 3",
   "language": "python",
   "name": "python3"
  },
  "language_info": {
   "codemirror_mode": {
    "name": "ipython",
    "version": 3
   },
   "file_extension": ".py",
   "mimetype": "text/x-python",
   "name": "python",
   "nbconvert_exporter": "python",
   "pygments_lexer": "ipython3",
   "version": "3.7.6"
  }
 },
 "nbformat": 4,
 "nbformat_minor": 4
}
