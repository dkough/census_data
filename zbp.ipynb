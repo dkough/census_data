{
 "cells": [
  {
   "cell_type": "code",
   "execution_count": 27,
   "metadata": {},
   "outputs": [],
   "source": [
    "import pandas as pd\n",
    "import requests\n",
    "import json"
   ]
  },
  {
   "cell_type": "code",
   "execution_count": 28,
   "metadata": {},
   "outputs": [],
   "source": [
    "#create list of zipcodes from txt file with zips\n",
    "zips = open('chosen_zips.txt', 'r').readlines()\n",
    "zips = [z.replace('\\n', '') for z in zips]\n",
    "zips = ','.join(zips)"
   ]
  },
  {
   "cell_type": "code",
   "execution_count": 29,
   "metadata": {},
   "outputs": [],
   "source": [
    "#census api key\n",
    "apiKey = \"\""
   ]
  },
  {
   "cell_type": "code",
   "execution_count": 30,
   "metadata": {},
   "outputs": [],
   "source": [
    "#same thing with variables\n",
    "variables = open('zbp_variables.txt', 'r').readlines()\n",
    "variables = [z.replace('\\n', '') for z in variables]\n",
    "variables = ','.join(variables)"
   ]
  },
  {
   "cell_type": "code",
   "execution_count": 31,
   "metadata": {},
   "outputs": [
    {
     "name": "stdout",
     "output_type": "stream",
     "text": [
      "ESTAB\n"
     ]
    }
   ],
   "source": [
    "#just to check for errors, if a ',' appears at the end you need to delete the last blank line in the txt file\n",
    "print(variables)\n",
    "#the first variable here corresponds to first value in columnNames"
   ]
  },
  {
   "cell_type": "code",
   "execution_count": 32,
   "metadata": {},
   "outputs": [],
   "source": [
    "columnNames = ['estab', 'zipcode']"
   ]
  },
  {
   "cell_type": "code",
   "execution_count": 33,
   "metadata": {},
   "outputs": [],
   "source": [
    "#i really should write a loop for this instead of copying it three times"
   ]
  },
  {
   "cell_type": "code",
   "execution_count": 34,
   "metadata": {},
   "outputs": [],
   "source": [
    "#base api, this is where you change the year and dataset\n",
    "#it could be cleaned a little more with %s\n",
    "#note it is currently the 2000 zbp dataset\n",
    "baseAPI = \"https://api.census.gov/data/2000/zbp?key=%s&get=%s&for=zipcode:%s\"\n",
    "#custom API constructed\n",
    "calledAPI = baseAPI % (apiKey, variables, zips)\n",
    "#call API and collect the response\n",
    "response = requests.get(calledAPI)\n",
    "#check if all the variables are valid, if ok it will just print, if not there will be an error\n",
    "#print(response.text)\n",
    "\n",
    "#load the response into a JSON, ignoring the first element which is just field labels\n",
    "formattedResponse = json.loads(response.text)[1:]\n",
    "\n",
    "#store the response in a dataframe\n",
    "df00 = pd.DataFrame(columns=columnNames, data=formattedResponse)"
   ]
  },
  {
   "cell_type": "code",
   "execution_count": 35,
   "metadata": {},
   "outputs": [],
   "source": [
    "#base api, this is where you change the year and dataset\n",
    "#it could be cleaned a little more with %s\n",
    "#note it is currently the 2010 zbp dataset\n",
    "baseAPI = \"https://api.census.gov/data/2010/zbp?key=%s&get=%s&for=zipcode:%s\"\n",
    "#custom API constructed\n",
    "calledAPI = baseAPI % (apiKey, variables, zips)\n",
    "#call API and collect the response\n",
    "response = requests.get(calledAPI)\n",
    "#check if all the variables are valid, if ok it will just print, if not there will be an error\n",
    "#print(response.text)\n",
    "\n",
    "#load the response into a JSON, ignoring the first element which is just field labels\n",
    "formattedResponse = json.loads(response.text)[1:]\n",
    "\n",
    "#store the response in a dataframe\n",
    "df10 = pd.DataFrame(columns=columnNames, data=formattedResponse)"
   ]
  },
  {
   "cell_type": "code",
   "execution_count": 36,
   "metadata": {},
   "outputs": [],
   "source": [
    "#base api, this is where you change the year and dataset\n",
    "#it could be cleaned a little more with %s\n",
    "#note it is currently the 2017 zbp dataset\n",
    "baseAPI = \"https://api.census.gov/data/2017/zbp?key=%s&get=%s&for=zipcode:%s\"\n",
    "#custom API constructed\n",
    "calledAPI = baseAPI % (apiKey, variables, zips)\n",
    "#call API and collect the response\n",
    "response = requests.get(calledAPI)\n",
    "#check if all the variables are valid, if ok it will just print, if not there will be an error\n",
    "#print(response.text)\n",
    "\n",
    "#load the response into a JSON, ignoring the first element which is just field labels\n",
    "formattedResponse = json.loads(response.text)[1:]\n",
    "\n",
    "#store the response in a dataframe\n",
    "df17 = pd.DataFrame(columns=columnNames, data=formattedResponse)"
   ]
  },
  {
   "cell_type": "code",
   "execution_count": 37,
   "metadata": {},
   "outputs": [],
   "source": [
    "#now add a year column\n",
    "df00['year'] = '2000'\n",
    "df10['year'] = '2010'\n",
    "df17['year'] = '2017'\n"
   ]
  },
  {
   "cell_type": "code",
   "execution_count": 38,
   "metadata": {},
   "outputs": [],
   "source": [
    "#add the town_names df\n",
    "#fixed the dropping leading zero problem\n",
    "name_df = pd.read_excel(\"town_names1.xlsx\", dtype={'zipcode': object})\n"
   ]
  },
  {
   "cell_type": "code",
   "execution_count": 39,
   "metadata": {},
   "outputs": [
    {
     "data": {
      "text/html": [
       "<div>\n",
       "<style scoped>\n",
       "    .dataframe tbody tr th:only-of-type {\n",
       "        vertical-align: middle;\n",
       "    }\n",
       "\n",
       "    .dataframe tbody tr th {\n",
       "        vertical-align: top;\n",
       "    }\n",
       "\n",
       "    .dataframe thead th {\n",
       "        text-align: right;\n",
       "    }\n",
       "</style>\n",
       "<table border=\"1\" class=\"dataframe\">\n",
       "  <thead>\n",
       "    <tr style=\"text-align: right;\">\n",
       "      <th></th>\n",
       "      <th>zipcode</th>\n",
       "      <th>territory</th>\n",
       "      <th>town</th>\n",
       "      <th>county</th>\n",
       "    </tr>\n",
       "  </thead>\n",
       "  <tbody>\n",
       "    <tr>\n",
       "      <th>0</th>\n",
       "      <td>07059</td>\n",
       "      <td>Warren</td>\n",
       "      <td>Warren</td>\n",
       "      <td>Somerset</td>\n",
       "    </tr>\n",
       "    <tr>\n",
       "      <th>1</th>\n",
       "      <td>07060</td>\n",
       "      <td>Warren</td>\n",
       "      <td>Plainfield</td>\n",
       "      <td>Union</td>\n",
       "    </tr>\n",
       "    <tr>\n",
       "      <th>2</th>\n",
       "      <td>07062</td>\n",
       "      <td>Warren</td>\n",
       "      <td>Plainfield</td>\n",
       "      <td>Union</td>\n",
       "    </tr>\n",
       "    <tr>\n",
       "      <th>3</th>\n",
       "      <td>07063</td>\n",
       "      <td>Warren</td>\n",
       "      <td>Plainfield</td>\n",
       "      <td>Union</td>\n",
       "    </tr>\n",
       "    <tr>\n",
       "      <th>4</th>\n",
       "      <td>07069</td>\n",
       "      <td>Warren</td>\n",
       "      <td>Watchung</td>\n",
       "      <td>Somerset</td>\n",
       "    </tr>\n",
       "  </tbody>\n",
       "</table>\n",
       "</div>"
      ],
      "text/plain": [
       "  zipcode territory        town    county\n",
       "0   07059    Warren      Warren  Somerset\n",
       "1   07060    Warren  Plainfield     Union\n",
       "2   07062    Warren  Plainfield     Union\n",
       "3   07063    Warren  Plainfield     Union\n",
       "4   07069    Warren    Watchung  Somerset"
      ]
     },
     "execution_count": 39,
     "metadata": {},
     "output_type": "execute_result"
    }
   ],
   "source": [
    "name_df.head()"
   ]
  },
  {
   "cell_type": "code",
   "execution_count": 40,
   "metadata": {},
   "outputs": [],
   "source": [
    "df00 = df00.set_index('zipcode').join(name_df.set_index('zipcode'))\n",
    "df10 = df10.set_index('zipcode').join(name_df.set_index('zipcode'))\n",
    "df17 = df17.set_index('zipcode').join(name_df.set_index('zipcode'))\n",
    "#concat combines them by rows\n",
    "df_main = pd.concat([df00, df10, df17])\n",
    "#panel data format, year1 year2 year1 year 2\n",
    "df_main.sort_values(by=['zipcode', 'year'], inplace=True)"
   ]
  },
  {
   "cell_type": "code",
   "execution_count": 41,
   "metadata": {},
   "outputs": [
    {
     "data": {
      "text/html": [
       "<div>\n",
       "<style scoped>\n",
       "    .dataframe tbody tr th:only-of-type {\n",
       "        vertical-align: middle;\n",
       "    }\n",
       "\n",
       "    .dataframe tbody tr th {\n",
       "        vertical-align: top;\n",
       "    }\n",
       "\n",
       "    .dataframe thead th {\n",
       "        text-align: right;\n",
       "    }\n",
       "</style>\n",
       "<table border=\"1\" class=\"dataframe\">\n",
       "  <thead>\n",
       "    <tr style=\"text-align: right;\">\n",
       "      <th></th>\n",
       "      <th>estab</th>\n",
       "      <th>year</th>\n",
       "      <th>territory</th>\n",
       "      <th>town</th>\n",
       "      <th>county</th>\n",
       "    </tr>\n",
       "    <tr>\n",
       "      <th>zipcode</th>\n",
       "      <th></th>\n",
       "      <th></th>\n",
       "      <th></th>\n",
       "      <th></th>\n",
       "      <th></th>\n",
       "    </tr>\n",
       "  </thead>\n",
       "  <tbody>\n",
       "    <tr>\n",
       "      <th>07059</th>\n",
       "      <td>634</td>\n",
       "      <td>2000</td>\n",
       "      <td>Warren</td>\n",
       "      <td>Warren</td>\n",
       "      <td>Somerset</td>\n",
       "    </tr>\n",
       "    <tr>\n",
       "      <th>07059</th>\n",
       "      <td>682</td>\n",
       "      <td>2010</td>\n",
       "      <td>Warren</td>\n",
       "      <td>Warren</td>\n",
       "      <td>Somerset</td>\n",
       "    </tr>\n",
       "    <tr>\n",
       "      <th>07059</th>\n",
       "      <td>744</td>\n",
       "      <td>2017</td>\n",
       "      <td>Warren</td>\n",
       "      <td>Warren</td>\n",
       "      <td>Somerset</td>\n",
       "    </tr>\n",
       "    <tr>\n",
       "      <th>07060</th>\n",
       "      <td>872</td>\n",
       "      <td>2000</td>\n",
       "      <td>Warren</td>\n",
       "      <td>Plainfield</td>\n",
       "      <td>Union</td>\n",
       "    </tr>\n",
       "    <tr>\n",
       "      <th>07060</th>\n",
       "      <td>830</td>\n",
       "      <td>2010</td>\n",
       "      <td>Warren</td>\n",
       "      <td>Plainfield</td>\n",
       "      <td>Union</td>\n",
       "    </tr>\n",
       "  </tbody>\n",
       "</table>\n",
       "</div>"
      ],
      "text/plain": [
       "        estab  year territory        town    county\n",
       "zipcode                                            \n",
       "07059     634  2000    Warren      Warren  Somerset\n",
       "07059     682  2010    Warren      Warren  Somerset\n",
       "07059     744  2017    Warren      Warren  Somerset\n",
       "07060     872  2000    Warren  Plainfield     Union\n",
       "07060     830  2010    Warren  Plainfield     Union"
      ]
     },
     "execution_count": 41,
     "metadata": {},
     "output_type": "execute_result"
    }
   ],
   "source": [
    "df_main.head()"
   ]
  },
  {
   "cell_type": "code",
   "execution_count": 42,
   "metadata": {},
   "outputs": [],
   "source": [
    "#move some columns around so it will be easier to read in excel\n",
    "#remember zipcode is the index not a column\n",
    "df_main = df_main[['territory', 'town', 'county', 'year', 'estab']]\n"
   ]
  },
  {
   "cell_type": "code",
   "execution_count": 43,
   "metadata": {},
   "outputs": [],
   "source": [
    "#trying to find percent change\n",
    "#because zipcode is our key this is a problem, there are multiple zips for one town\n",
    "#df_main = df_main.groupby(['zipcode'])(['estab']).pct_change()\n",
    "\n",
    "#make a new df with reset index\n",
    "dfmod = df_main.reset_index()"
   ]
  },
  {
   "cell_type": "code",
   "execution_count": 44,
   "metadata": {},
   "outputs": [
    {
     "data": {
      "text/html": [
       "<div>\n",
       "<style scoped>\n",
       "    .dataframe tbody tr th:only-of-type {\n",
       "        vertical-align: middle;\n",
       "    }\n",
       "\n",
       "    .dataframe tbody tr th {\n",
       "        vertical-align: top;\n",
       "    }\n",
       "\n",
       "    .dataframe thead th {\n",
       "        text-align: right;\n",
       "    }\n",
       "</style>\n",
       "<table border=\"1\" class=\"dataframe\">\n",
       "  <thead>\n",
       "    <tr style=\"text-align: right;\">\n",
       "      <th></th>\n",
       "      <th>zipcode</th>\n",
       "      <th>territory</th>\n",
       "      <th>town</th>\n",
       "      <th>county</th>\n",
       "      <th>year</th>\n",
       "      <th>estab</th>\n",
       "    </tr>\n",
       "  </thead>\n",
       "  <tbody>\n",
       "    <tr>\n",
       "      <th>0</th>\n",
       "      <td>07059</td>\n",
       "      <td>Warren</td>\n",
       "      <td>Warren</td>\n",
       "      <td>Somerset</td>\n",
       "      <td>2000</td>\n",
       "      <td>634</td>\n",
       "    </tr>\n",
       "    <tr>\n",
       "      <th>1</th>\n",
       "      <td>07059</td>\n",
       "      <td>Warren</td>\n",
       "      <td>Warren</td>\n",
       "      <td>Somerset</td>\n",
       "      <td>2010</td>\n",
       "      <td>682</td>\n",
       "    </tr>\n",
       "    <tr>\n",
       "      <th>2</th>\n",
       "      <td>07059</td>\n",
       "      <td>Warren</td>\n",
       "      <td>Warren</td>\n",
       "      <td>Somerset</td>\n",
       "      <td>2017</td>\n",
       "      <td>744</td>\n",
       "    </tr>\n",
       "    <tr>\n",
       "      <th>3</th>\n",
       "      <td>07060</td>\n",
       "      <td>Warren</td>\n",
       "      <td>Plainfield</td>\n",
       "      <td>Union</td>\n",
       "      <td>2000</td>\n",
       "      <td>872</td>\n",
       "    </tr>\n",
       "    <tr>\n",
       "      <th>4</th>\n",
       "      <td>07060</td>\n",
       "      <td>Warren</td>\n",
       "      <td>Plainfield</td>\n",
       "      <td>Union</td>\n",
       "      <td>2010</td>\n",
       "      <td>830</td>\n",
       "    </tr>\n",
       "  </tbody>\n",
       "</table>\n",
       "</div>"
      ],
      "text/plain": [
       "  zipcode territory        town    county  year estab\n",
       "0   07059    Warren      Warren  Somerset  2000   634\n",
       "1   07059    Warren      Warren  Somerset  2010   682\n",
       "2   07059    Warren      Warren  Somerset  2017   744\n",
       "3   07060    Warren  Plainfield     Union  2000   872\n",
       "4   07060    Warren  Plainfield     Union  2010   830"
      ]
     },
     "execution_count": 44,
     "metadata": {},
     "output_type": "execute_result"
    }
   ],
   "source": [
    "dfmod.head()"
   ]
  },
  {
   "cell_type": "code",
   "execution_count": 45,
   "metadata": {},
   "outputs": [],
   "source": [
    "dfmod['estab'] = dfmod['estab'].apply(pd.to_numeric, errors='coerce')\n",
    "dfmod['p_change'] = dfmod.groupby(['zipcode'])['estab'].pct_change()\n"
   ]
  },
  {
   "cell_type": "code",
   "execution_count": 46,
   "metadata": {},
   "outputs": [],
   "source": [
    "dfmod.set_index(['zipcode'], inplace=True)"
   ]
  },
  {
   "cell_type": "code",
   "execution_count": 48,
   "metadata": {},
   "outputs": [],
   "source": [
    "dfmod.to_excel('zbp.xlsx')"
   ]
  }
 ],
 "metadata": {
  "kernelspec": {
   "display_name": "Python 3",
   "language": "python",
   "name": "python3"
  },
  "language_info": {
   "codemirror_mode": {
    "name": "ipython",
    "version": 3
   },
   "file_extension": ".py",
   "mimetype": "text/x-python",
   "name": "python",
   "nbconvert_exporter": "python",
   "pygments_lexer": "ipython3",
   "version": "3.7.6"
  }
 },
 "nbformat": 4,
 "nbformat_minor": 4
}
