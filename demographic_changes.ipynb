{
 "cells": [
  {
   "cell_type": "markdown",
   "metadata": {},
   "source": [
    "This sheet takes zip code demographic data from 2000, 2010, and 2018(ACS5) and calculates percent change.  \n",
    "In order for this to work, the 2000_scrape, 2010_scrape, and acs5_2018_api_zip notebooks must be run and the output exported to excel.   \n",
    "Check that the file paths are correct for you."
   ]
  },
  {
   "cell_type": "code",
   "execution_count": 2,
   "metadata": {},
   "outputs": [],
   "source": [
    "import pandas as pd\n"
   ]
  },
  {
   "cell_type": "code",
   "execution_count": 41,
   "metadata": {},
   "outputs": [],
   "source": [
    "df00 = pd.read_excel(\"./excel/2000_scrape.xlsx\", dtype={'zipcode': object})\n",
    "df10 = pd.read_excel(\"./excel/2010_scrape.xlsx\", dtype={'zipcode': object})\n",
    "df18 = pd.read_excel(\"./acs5_data/acs5_2018_zip.xlsx\", dtype={'zipcode': object})"
   ]
  },
  {
   "cell_type": "markdown",
   "metadata": {},
   "source": [
    "Before we can concatonate and then sort_values to format it as panel data, df18 must be modified to look like the other 2."
   ]
  },
  {
   "cell_type": "code",
   "execution_count": 42,
   "metadata": {},
   "outputs": [],
   "source": [
    "df18 = df18[['zipcode', 'territory', 'town', 'county', 'year', 'pop', \n",
    "         'hhold', 'avg_hhold', 'med_age', '18plus', '65plus' ]]\n"
   ]
  },
  {
   "cell_type": "code",
   "execution_count": 53,
   "metadata": {},
   "outputs": [],
   "source": [
    "#concat combines them by rows\n",
    "df = pd.concat([df00, df10, df18])\n",
    "\n",
    "#panel data format, year1 year2 year1 year 2\n",
    "df.sort_values(by=['zipcode', 'year'], inplace=True)"
   ]
  },
  {
   "cell_type": "code",
   "execution_count": null,
   "metadata": {},
   "outputs": [],
   "source": []
  },
  {
   "cell_type": "markdown",
   "metadata": {},
   "source": [
    "Now we will calculate percent change.  \n",
    "There could be a loop here... but it's only six lines so..."
   ]
  },
  {
   "cell_type": "code",
   "execution_count": 54,
   "metadata": {},
   "outputs": [],
   "source": [
    "dfmod = df\n",
    "dfmod['p_pop'] = dfmod.groupby(['zipcode'])['pop'].pct_change()\n",
    "dfmod['p_hhold'] = dfmod.groupby(['zipcode'])['hhold'].pct_change()\n",
    "dfmod['p_avg_hhold'] = dfmod.groupby(['zipcode'])['avg_hhold'].pct_change()\n",
    "dfmod['p_med_age'] = dfmod.groupby(['zipcode'])['med_age'].pct_change()\n",
    "dfmod['p_18plus'] = dfmod.groupby(['zipcode'])['18plus'].pct_change()\n",
    "dfmod['p_65plus'] = dfmod.groupby(['zipcode'])['65plus'].pct_change()"
   ]
  },
  {
   "cell_type": "code",
   "execution_count": 56,
   "metadata": {},
   "outputs": [],
   "source": [
    "dfmod = dfmod[['zipcode', 'territory', 'town', 'county', 'year', 'pop', 'p_pop', \n",
    "         'hhold', 'p_hhold', 'avg_hhold', 'p_avg_hhold', 'med_age', 'p_med_age', '18plus', 'p_18plus', '65plus', 'p_65plus']]"
   ]
  },
  {
   "cell_type": "code",
   "execution_count": 57,
   "metadata": {},
   "outputs": [
    {
     "data": {
      "text/html": [
       "<div>\n",
       "<style scoped>\n",
       "    .dataframe tbody tr th:only-of-type {\n",
       "        vertical-align: middle;\n",
       "    }\n",
       "\n",
       "    .dataframe tbody tr th {\n",
       "        vertical-align: top;\n",
       "    }\n",
       "\n",
       "    .dataframe thead th {\n",
       "        text-align: right;\n",
       "    }\n",
       "</style>\n",
       "<table border=\"1\" class=\"dataframe\">\n",
       "  <thead>\n",
       "    <tr style=\"text-align: right;\">\n",
       "      <th></th>\n",
       "      <th>zipcode</th>\n",
       "      <th>territory</th>\n",
       "      <th>town</th>\n",
       "      <th>county</th>\n",
       "      <th>year</th>\n",
       "      <th>pop</th>\n",
       "      <th>p_pop</th>\n",
       "      <th>hhold</th>\n",
       "      <th>p_hhold</th>\n",
       "      <th>avg_hhold</th>\n",
       "      <th>p_avg_hhold</th>\n",
       "      <th>med_age</th>\n",
       "      <th>p_med_age</th>\n",
       "      <th>18plus</th>\n",
       "      <th>p_18plus</th>\n",
       "      <th>65plus</th>\n",
       "      <th>p_65plus</th>\n",
       "    </tr>\n",
       "  </thead>\n",
       "  <tbody>\n",
       "    <tr>\n",
       "      <th>0</th>\n",
       "      <td>07059</td>\n",
       "      <td>Warren</td>\n",
       "      <td>Warren</td>\n",
       "      <td>Somerset</td>\n",
       "      <td>2000</td>\n",
       "      <td>14219</td>\n",
       "      <td>NaN</td>\n",
       "      <td>4616</td>\n",
       "      <td>NaN</td>\n",
       "      <td>3.05</td>\n",
       "      <td>NaN</td>\n",
       "      <td>39.1</td>\n",
       "      <td>NaN</td>\n",
       "      <td>9994</td>\n",
       "      <td>NaN</td>\n",
       "      <td>1592</td>\n",
       "      <td>NaN</td>\n",
       "    </tr>\n",
       "    <tr>\n",
       "      <th>0</th>\n",
       "      <td>07059</td>\n",
       "      <td>Warren</td>\n",
       "      <td>Warren</td>\n",
       "      <td>Somerset</td>\n",
       "      <td>2010</td>\n",
       "      <td>15311</td>\n",
       "      <td>0.076799</td>\n",
       "      <td>5059</td>\n",
       "      <td>0.095971</td>\n",
       "      <td>3.01</td>\n",
       "      <td>-0.013115</td>\n",
       "      <td>43.8</td>\n",
       "      <td>0.120205</td>\n",
       "      <td>11051</td>\n",
       "      <td>0.105763</td>\n",
       "      <td>2059</td>\n",
       "      <td>0.293342</td>\n",
       "    </tr>\n",
       "    <tr>\n",
       "      <th>0</th>\n",
       "      <td>07059</td>\n",
       "      <td>Warren</td>\n",
       "      <td>Warren</td>\n",
       "      <td>Somerset</td>\n",
       "      <td>2018</td>\n",
       "      <td>15783</td>\n",
       "      <td>0.030828</td>\n",
       "      <td>5153</td>\n",
       "      <td>0.018581</td>\n",
       "      <td>3.04</td>\n",
       "      <td>0.009967</td>\n",
       "      <td>46.6</td>\n",
       "      <td>0.063927</td>\n",
       "      <td>12171</td>\n",
       "      <td>0.101348</td>\n",
       "      <td>2832</td>\n",
       "      <td>0.375425</td>\n",
       "    </tr>\n",
       "    <tr>\n",
       "      <th>1</th>\n",
       "      <td>07060</td>\n",
       "      <td>Warren</td>\n",
       "      <td>Plainfield</td>\n",
       "      <td>Union</td>\n",
       "      <td>2000</td>\n",
       "      <td>49040</td>\n",
       "      <td>NaN</td>\n",
       "      <td>16161</td>\n",
       "      <td>NaN</td>\n",
       "      <td>2.96</td>\n",
       "      <td>NaN</td>\n",
       "      <td>32.4</td>\n",
       "      <td>NaN</td>\n",
       "      <td>36317</td>\n",
       "      <td>NaN</td>\n",
       "      <td>4868</td>\n",
       "      <td>NaN</td>\n",
       "    </tr>\n",
       "    <tr>\n",
       "      <th>1</th>\n",
       "      <td>07060</td>\n",
       "      <td>Warren</td>\n",
       "      <td>Plainfield</td>\n",
       "      <td>Union</td>\n",
       "      <td>2010</td>\n",
       "      <td>44998</td>\n",
       "      <td>-0.082423</td>\n",
       "      <td>14304</td>\n",
       "      <td>-0.114906</td>\n",
       "      <td>3.09</td>\n",
       "      <td>0.043919</td>\n",
       "      <td>33.6</td>\n",
       "      <td>0.037037</td>\n",
       "      <td>33850</td>\n",
       "      <td>-0.067930</td>\n",
       "      <td>3990</td>\n",
       "      <td>-0.180362</td>\n",
       "    </tr>\n",
       "  </tbody>\n",
       "</table>\n",
       "</div>"
      ],
      "text/plain": [
       "  zipcode territory        town    county  year    pop     p_pop  hhold  \\\n",
       "0   07059    Warren      Warren  Somerset  2000  14219       NaN   4616   \n",
       "0   07059    Warren      Warren  Somerset  2010  15311  0.076799   5059   \n",
       "0   07059    Warren      Warren  Somerset  2018  15783  0.030828   5153   \n",
       "1   07060    Warren  Plainfield     Union  2000  49040       NaN  16161   \n",
       "1   07060    Warren  Plainfield     Union  2010  44998 -0.082423  14304   \n",
       "\n",
       "    p_hhold  avg_hhold  p_avg_hhold  med_age  p_med_age  18plus  p_18plus  \\\n",
       "0       NaN       3.05          NaN     39.1        NaN    9994       NaN   \n",
       "0  0.095971       3.01    -0.013115     43.8   0.120205   11051  0.105763   \n",
       "0  0.018581       3.04     0.009967     46.6   0.063927   12171  0.101348   \n",
       "1       NaN       2.96          NaN     32.4        NaN   36317       NaN   \n",
       "1 -0.114906       3.09     0.043919     33.6   0.037037   33850 -0.067930   \n",
       "\n",
       "   65plus  p_65plus  \n",
       "0    1592       NaN  \n",
       "0    2059  0.293342  \n",
       "0    2832  0.375425  \n",
       "1    4868       NaN  \n",
       "1    3990 -0.180362  "
      ]
     },
     "execution_count": 57,
     "metadata": {},
     "output_type": "execute_result"
    }
   ],
   "source": [
    "dfmod.head()"
   ]
  },
  {
   "cell_type": "markdown",
   "metadata": {},
   "source": [
    "I set the index to zipcode just so it looks nicer in excel, you don't have to do this"
   ]
  },
  {
   "cell_type": "code",
   "execution_count": 60,
   "metadata": {},
   "outputs": [],
   "source": [
    "dfmod.set_index(['zipcode'], inplace=True)\n",
    "dfmod.to_excel('./excel/demographic_changes.xlsx')"
   ]
  },
  {
   "cell_type": "markdown",
   "metadata": {},
   "source": []
  }
 ],
 "metadata": {
  "kernelspec": {
   "display_name": "Python 3",
   "language": "python",
   "name": "python3"
  },
  "language_info": {
   "codemirror_mode": {
    "name": "ipython",
    "version": 3
   },
   "file_extension": ".py",
   "mimetype": "text/x-python",
   "name": "python",
   "nbconvert_exporter": "python",
   "pygments_lexer": "ipython3",
   "version": "3.7.6"
  }
 },
 "nbformat": 4,
 "nbformat_minor": 4
}
